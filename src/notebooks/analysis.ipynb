{
 "cells": [
  {
   "cell_type": "code",
   "execution_count": 193,
   "id": "956293e1",
   "metadata": {},
   "outputs": [],
   "source": [
    "#change working directory to the task folder\n",
    "import os\n",
    "os.chdir(\"C:/Users/amydu/OneDrive/Documents/EMBL-EBI_Interview_Task\")"
   ]
  },
  {
   "cell_type": "code",
   "execution_count": null,
   "id": "4d8a842e",
   "metadata": {},
   "outputs": [],
   "source": [
    "#import necessary libraries\n",
    "import pandas as pd\n",
    "import ast\n",
    "from pyvis.network import Network\n",
    "from itertools import combinations\n",
    "import networkx as nx\n"
   ]
  },
  {
   "cell_type": "code",
   "execution_count": 194,
   "id": "d1081678",
   "metadata": {},
   "outputs": [],
   "source": [
    "#import metadata for statistical analysis and visualisation\n",
    "metadata = pd.read_csv(\"data/data_retrieval/epmc_metadata.csv\")\n",
    "authors = pd.read_csv(\"data/data_retrieval/epmc_authors.csv\")\n",
    "metadata_with_pdb = pd.read_csv(\"data/data_retrieval/metadata_with_pdb.csv\")"
   ]
  },
  {
   "cell_type": "code",
   "execution_count": 195,
   "id": "bccc2ca4",
   "metadata": {},
   "outputs": [
    {
     "data": {
      "text/html": [
       "<div>\n",
       "<style scoped>\n",
       "    .dataframe tbody tr th:only-of-type {\n",
       "        vertical-align: middle;\n",
       "    }\n",
       "\n",
       "    .dataframe tbody tr th {\n",
       "        vertical-align: top;\n",
       "    }\n",
       "\n",
       "    .dataframe thead th {\n",
       "        text-align: right;\n",
       "    }\n",
       "</style>\n",
       "<table border=\"1\" class=\"dataframe\">\n",
       "  <thead>\n",
       "    <tr style=\"text-align: right;\">\n",
       "      <th></th>\n",
       "      <th>pmid</th>\n",
       "      <th>title</th>\n",
       "      <th>authors</th>\n",
       "      <th>affiliation</th>\n",
       "      <th>journal</th>\n",
       "      <th>journal_nlmid</th>\n",
       "      <th>year</th>\n",
       "      <th>open_access</th>\n",
       "      <th>doi</th>\n",
       "      <th>abstract</th>\n",
       "      <th>Cited_by</th>\n",
       "      <th>pdb_ids</th>\n",
       "    </tr>\n",
       "  </thead>\n",
       "  <tbody>\n",
       "    <tr>\n",
       "      <th>0</th>\n",
       "      <td>40548716</td>\n",
       "      <td>Active site loops of membrane-anchored metallo...</td>\n",
       "      <td>Carnevale MC, Palacios AR, Hinchliffe P, Delmo...</td>\n",
       "      <td>Laboratorio de Metaloproteínas, Instituto de B...</td>\n",
       "      <td>Antimicrobial agents and chemotherapy</td>\n",
       "      <td>0315061</td>\n",
       "      <td>2025</td>\n",
       "      <td>N</td>\n",
       "      <td>10.1128/aac.01918-24</td>\n",
       "      <td>Antimicrobial resistance is a significant glob...</td>\n",
       "      <td>0</td>\n",
       "      <td>['9gx8', '9gx9']</td>\n",
       "    </tr>\n",
       "    <tr>\n",
       "      <th>1</th>\n",
       "      <td>40525813</td>\n",
       "      <td>Crystal Structure and Functional Characterizat...</td>\n",
       "      <td>Choi SY, Kim E, Yoon H, Kim HN, Kim JH, Seok S...</td>\n",
       "      <td>College of Pharmacy and Research Institute of ...</td>\n",
       "      <td>Proteins</td>\n",
       "      <td>8700181</td>\n",
       "      <td>2025</td>\n",
       "      <td>N</td>\n",
       "      <td>10.1002/prot.26854</td>\n",
       "      <td>The YhcH/YjgK/YiaL (DUF386) family, widely con...</td>\n",
       "      <td>0</td>\n",
       "      <td>['9jrr']</td>\n",
       "    </tr>\n",
       "    <tr>\n",
       "      <th>2</th>\n",
       "      <td>40498833</td>\n",
       "      <td>ATP13A1 engages SEC61 to facilitate substrate-...</td>\n",
       "      <td>Yang X, Li Y, Yang C, Li T, Fang Z, Feng Z, Li...</td>\n",
       "      <td>School of Life Science and Technology, Shangha...</td>\n",
       "      <td>Science advances</td>\n",
       "      <td>101653440</td>\n",
       "      <td>2025</td>\n",
       "      <td>Y</td>\n",
       "      <td>10.1126/sciadv.adt1346</td>\n",
       "      <td>The accurate targeting of proteins to their de...</td>\n",
       "      <td>0</td>\n",
       "      <td>['9jbr', '9jbz', '9jbm', '9jbx']</td>\n",
       "    </tr>\n",
       "    <tr>\n",
       "      <th>3</th>\n",
       "      <td>40603868</td>\n",
       "      <td>Structure and biochemistry-guided engineering ...</td>\n",
       "      <td>Edmonds KK, Wilkinson ME, Strebinger D, Chen H...</td>\n",
       "      <td>Howard Hughes Medical Institute, Cambridge, MA...</td>\n",
       "      <td>Nature communications</td>\n",
       "      <td>101528555</td>\n",
       "      <td>2025</td>\n",
       "      <td>Y</td>\n",
       "      <td>10.1038/s41467-025-61321-z</td>\n",
       "      <td>R2 elements, a class of non-long terminal repe...</td>\n",
       "      <td>0</td>\n",
       "      <td>['9dou']</td>\n",
       "    </tr>\n",
       "    <tr>\n",
       "      <th>4</th>\n",
       "      <td>40595028</td>\n",
       "      <td>Polarity protein Par6 facilitates the processi...</td>\n",
       "      <td>Almagor L, Weis WI.</td>\n",
       "      <td>Department of Structural Biology, Stanford Uni...</td>\n",
       "      <td>Communications biology</td>\n",
       "      <td>101719179</td>\n",
       "      <td>2025</td>\n",
       "      <td>Y</td>\n",
       "      <td>10.1038/s42003-025-08401-4</td>\n",
       "      <td>Polarity along an apical-basal axis is essenti...</td>\n",
       "      <td>0</td>\n",
       "      <td>['9ejm', '9ejl', '9ejk']</td>\n",
       "    </tr>\n",
       "  </tbody>\n",
       "</table>\n",
       "</div>"
      ],
      "text/plain": [
       "       pmid                                              title  \\\n",
       "0  40548716  Active site loops of membrane-anchored metallo...   \n",
       "1  40525813  Crystal Structure and Functional Characterizat...   \n",
       "2  40498833  ATP13A1 engages SEC61 to facilitate substrate-...   \n",
       "3  40603868  Structure and biochemistry-guided engineering ...   \n",
       "4  40595028  Polarity protein Par6 facilitates the processi...   \n",
       "\n",
       "                                             authors  \\\n",
       "0  Carnevale MC, Palacios AR, Hinchliffe P, Delmo...   \n",
       "1  Choi SY, Kim E, Yoon H, Kim HN, Kim JH, Seok S...   \n",
       "2  Yang X, Li Y, Yang C, Li T, Fang Z, Feng Z, Li...   \n",
       "3  Edmonds KK, Wilkinson ME, Strebinger D, Chen H...   \n",
       "4                                Almagor L, Weis WI.   \n",
       "\n",
       "                                         affiliation  \\\n",
       "0  Laboratorio de Metaloproteínas, Instituto de B...   \n",
       "1  College of Pharmacy and Research Institute of ...   \n",
       "2  School of Life Science and Technology, Shangha...   \n",
       "3  Howard Hughes Medical Institute, Cambridge, MA...   \n",
       "4  Department of Structural Biology, Stanford Uni...   \n",
       "\n",
       "                                 journal journal_nlmid  year open_access  \\\n",
       "0  Antimicrobial agents and chemotherapy       0315061  2025           N   \n",
       "1                               Proteins       8700181  2025           N   \n",
       "2                       Science advances     101653440  2025           Y   \n",
       "3                  Nature communications     101528555  2025           Y   \n",
       "4                 Communications biology     101719179  2025           Y   \n",
       "\n",
       "                          doi  \\\n",
       "0        10.1128/aac.01918-24   \n",
       "1          10.1002/prot.26854   \n",
       "2      10.1126/sciadv.adt1346   \n",
       "3  10.1038/s41467-025-61321-z   \n",
       "4  10.1038/s42003-025-08401-4   \n",
       "\n",
       "                                            abstract  Cited_by  \\\n",
       "0  Antimicrobial resistance is a significant glob...         0   \n",
       "1  The YhcH/YjgK/YiaL (DUF386) family, widely con...         0   \n",
       "2  The accurate targeting of proteins to their de...         0   \n",
       "3  R2 elements, a class of non-long terminal repe...         0   \n",
       "4  Polarity along an apical-basal axis is essenti...         0   \n",
       "\n",
       "                            pdb_ids  \n",
       "0                  ['9gx8', '9gx9']  \n",
       "1                          ['9jrr']  \n",
       "2  ['9jbr', '9jbz', '9jbm', '9jbx']  \n",
       "3                          ['9dou']  \n",
       "4          ['9ejm', '9ejl', '9ejk']  "
      ]
     },
     "execution_count": 195,
     "metadata": {},
     "output_type": "execute_result"
    }
   ],
   "source": [
    "metadata_with_pdb.head()"
   ]
  },
  {
   "cell_type": "code",
   "execution_count": 196,
   "id": "b613cf31",
   "metadata": {},
   "outputs": [
    {
     "data": {
      "text/html": [
       "<div>\n",
       "<style scoped>\n",
       "    .dataframe tbody tr th:only-of-type {\n",
       "        vertical-align: middle;\n",
       "    }\n",
       "\n",
       "    .dataframe tbody tr th {\n",
       "        vertical-align: top;\n",
       "    }\n",
       "\n",
       "    .dataframe thead th {\n",
       "        text-align: right;\n",
       "    }\n",
       "</style>\n",
       "<table border=\"1\" class=\"dataframe\">\n",
       "  <thead>\n",
       "    <tr style=\"text-align: right;\">\n",
       "      <th></th>\n",
       "      <th>pmid</th>\n",
       "      <th>title</th>\n",
       "      <th>author_fullName</th>\n",
       "      <th>author_orcid</th>\n",
       "    </tr>\n",
       "  </thead>\n",
       "  <tbody>\n",
       "    <tr>\n",
       "      <th>0</th>\n",
       "      <td>40548716</td>\n",
       "      <td>Active site loops of membrane-anchored metallo...</td>\n",
       "      <td>Carnevale MC</td>\n",
       "      <td>0000-0002-4156-6815</td>\n",
       "    </tr>\n",
       "    <tr>\n",
       "      <th>1</th>\n",
       "      <td>40548716</td>\n",
       "      <td>Active site loops of membrane-anchored metallo...</td>\n",
       "      <td>Palacios AR</td>\n",
       "      <td>0000-0003-2904-7622</td>\n",
       "    </tr>\n",
       "    <tr>\n",
       "      <th>2</th>\n",
       "      <td>40548716</td>\n",
       "      <td>Active site loops of membrane-anchored metallo...</td>\n",
       "      <td>Hinchliffe P</td>\n",
       "      <td>0000-0001-8611-4743</td>\n",
       "    </tr>\n",
       "    <tr>\n",
       "      <th>3</th>\n",
       "      <td>40548716</td>\n",
       "      <td>Active site loops of membrane-anchored metallo...</td>\n",
       "      <td>Delmonti J</td>\n",
       "      <td>0009-0008-7162-9531</td>\n",
       "    </tr>\n",
       "    <tr>\n",
       "      <th>4</th>\n",
       "      <td>40548716</td>\n",
       "      <td>Active site loops of membrane-anchored metallo...</td>\n",
       "      <td>Drusin SI</td>\n",
       "      <td>0000-0001-5350-514X</td>\n",
       "    </tr>\n",
       "  </tbody>\n",
       "</table>\n",
       "</div>"
      ],
      "text/plain": [
       "       pmid                                              title  \\\n",
       "0  40548716  Active site loops of membrane-anchored metallo...   \n",
       "1  40548716  Active site loops of membrane-anchored metallo...   \n",
       "2  40548716  Active site loops of membrane-anchored metallo...   \n",
       "3  40548716  Active site loops of membrane-anchored metallo...   \n",
       "4  40548716  Active site loops of membrane-anchored metallo...   \n",
       "\n",
       "  author_fullName         author_orcid  \n",
       "0    Carnevale MC  0000-0002-4156-6815  \n",
       "1     Palacios AR  0000-0003-2904-7622  \n",
       "2    Hinchliffe P  0000-0001-8611-4743  \n",
       "3      Delmonti J  0009-0008-7162-9531  \n",
       "4       Drusin SI  0000-0001-5350-514X  "
      ]
     },
     "execution_count": 196,
     "metadata": {},
     "output_type": "execute_result"
    }
   ],
   "source": [
    "authors.head()"
   ]
  },
  {
   "cell_type": "code",
   "execution_count": 197,
   "id": "ca59f244",
   "metadata": {},
   "outputs": [
    {
     "data": {
      "text/plain": [
       "count    19457.000000\n",
       "mean        10.808912\n",
       "std          7.870422\n",
       "min          1.000000\n",
       "25%          6.000000\n",
       "50%          9.000000\n",
       "75%         13.000000\n",
       "max        213.000000\n",
       "dtype: float64"
      ]
     },
     "execution_count": 197,
     "metadata": {},
     "output_type": "execute_result"
    }
   ],
   "source": [
    "# look at stats for number of authors per publication\n",
    "authors_df.groupby('pmid').size().describe()\n",
    "\n",
    "#mean of 10 authors for each publication\n",
    "#min of 1 author, max of 213 authors"
   ]
  },
  {
   "cell_type": "code",
   "execution_count": 198,
   "id": "f9b2b428",
   "metadata": {},
   "outputs": [],
   "source": [
    "### Find Top Publishing Authors ###\n",
    "\n",
    "# Drop authors with no ORCID (optional, or use fallback)\n",
    "authors_df['author_orcid'] = authors_df['author_orcid'].fillna(\"no_orcid\")\n",
    "\n",
    "# Group by ORCID\n",
    "grouped = authors_df.groupby('author_orcid')\n",
    "\n",
    "# Count publications per ORCID\n",
    "author_counts = grouped.size().reset_index(name='publication_count')\n",
    "\n",
    "# Get one representative name for each ORCID (first name seen)\n",
    "author_names = grouped['author_fullName'].first().reset_index()\n",
    "\n",
    "# Merge counts with names\n",
    "top_authors = pd.merge(author_counts, author_names, on='author_orcid')\n",
    "\n",
    "# Sort and select top N\n",
    "top_authors = top_authors.sort_values('publication_count', ascending=False).head(20)\n",
    "\n",
    "# Optional: format label for display\n",
    "top_authors['label'] = top_authors.apply(\n",
    "    lambda row: f\"{row['author_fullName']} ({row['author_orcid']})\", axis=1\n",
    ")"
   ]
  },
  {
   "cell_type": "code",
   "execution_count": 199,
   "id": "86775cd4",
   "metadata": {},
   "outputs": [
    {
     "name": "stdout",
     "output_type": "stream",
     "text": [
      "                                    label  publication_count\n",
      "45769                    Kim E (no_orcid)             116999\n",
      "25333         Xu HE (0000-0002-6829-8144)                 78\n",
      "6225        Baker D (0000-0001-7896-6217)                 73\n",
      "19125        Gao GF (0000-0002-3869-615X)                 67\n",
      "2166        Knapp S (0000-0001-5995-6494)                 67\n",
      "4678        Ward AB (0000-0001-7153-3769)                 54\n",
      "40996    Supuran CT (0000-0003-4262-0323)                 52\n",
      "24598     Wilson IA (0000-0002-6469-2419)                 49\n",
      "15130    Rossjohn J (0000-0002-2020-7522)                 46\n",
      "35834      Nureki O (0000-0003-1813-7008)                 46\n",
      "40429   McLellan JS (0000-0003-3991-542X)                 46\n",
      "26407     Davies GJ (0000-0002-7343-776X)                 43\n",
      "19031    Steyaert J (0000-0002-3825-874X)                 41\n",
      "9723        Bera AK (0000-0001-9473-2912)                 40\n",
      "40822         Shi K (0000-0003-4175-3714)                 39\n",
      "30578          Qi J (0000-0002-9358-4732)                 39\n",
      "28538       Zhou ZH (0000-0002-8373-4717)                 38\n",
      "6062           He X (0000-0001-7813-5480)                 38\n",
      "6598           Li H (0000-0001-8085-8928)                 38\n",
      "11517  Schofield CJ (0000-0002-0290-6565)                 37\n"
     ]
    }
   ],
   "source": [
    "print(top_authors[['label', 'publication_count']])\n",
    "#Kim E is clearly a lot of differrent authors, so we can filter them out\n",
    "#filter out all authors without an ORCID for cleaning data\n",
    "\n",
    "#The highest raw publication count was attributed to “Kim E”, \n",
    "# but this author has no ORCID identifier and the count (~117,000) \n",
    "# suggests a conflation of multiple individuals with the same name. \n",
    "# To avoid misrepresentation, only authors with valid ORCID IDs were used for top-author analysis."
   ]
  },
  {
   "cell_type": "code",
   "execution_count": 200,
   "id": "0e608c09",
   "metadata": {},
   "outputs": [],
   "source": [
    "#remove authors without ORCID\n",
    "top_authors = top_authors[top_authors['author_orcid'] != \"no_orcid\"]"
   ]
  },
  {
   "cell_type": "code",
   "execution_count": 201,
   "id": "c826db79",
   "metadata": {},
   "outputs": [
    {
     "name": "stdout",
     "output_type": "stream",
     "text": [
      "Top 10 Authors by Publication Count with vaild ORCIDs:\n",
      "                                    label  publication_count\n",
      "25333         Xu HE (0000-0002-6829-8144)                 78\n",
      "6225        Baker D (0000-0001-7896-6217)                 73\n",
      "19125        Gao GF (0000-0002-3869-615X)                 67\n",
      "2166        Knapp S (0000-0001-5995-6494)                 67\n",
      "4678        Ward AB (0000-0001-7153-3769)                 54\n",
      "40996    Supuran CT (0000-0003-4262-0323)                 52\n",
      "24598     Wilson IA (0000-0002-6469-2419)                 49\n",
      "15130    Rossjohn J (0000-0002-2020-7522)                 46\n",
      "35834      Nureki O (0000-0003-1813-7008)                 46\n",
      "40429   McLellan JS (0000-0003-3991-542X)                 46\n",
      "26407     Davies GJ (0000-0002-7343-776X)                 43\n",
      "19031    Steyaert J (0000-0002-3825-874X)                 41\n",
      "9723        Bera AK (0000-0001-9473-2912)                 40\n",
      "40822         Shi K (0000-0003-4175-3714)                 39\n",
      "30578          Qi J (0000-0002-9358-4732)                 39\n",
      "28538       Zhou ZH (0000-0002-8373-4717)                 38\n",
      "6062           He X (0000-0001-7813-5480)                 38\n",
      "6598           Li H (0000-0001-8085-8928)                 38\n",
      "11517  Schofield CJ (0000-0002-0290-6565)                 37\n"
     ]
    }
   ],
   "source": [
    "print(\"Top 10 Authors by Publication Count with vaild ORCIDs:\")\n",
    "print(top_authors[['label', 'publication_count']])"
   ]
  },
  {
   "cell_type": "code",
   "execution_count": 202,
   "id": "4b40deb8",
   "metadata": {},
   "outputs": [
    {
     "name": "stdout",
     "output_type": "stream",
     "text": [
      "ORCID coverage: 44.37%\n"
     ]
    }
   ],
   "source": [
    "orcid_coverage = authors_df['author_orcid'].apply(lambda x: x != \"no_orcid\").mean()\n",
    "print(f\"ORCID coverage: {orcid_coverage:.2%}\")"
   ]
  },
  {
   "cell_type": "code",
   "execution_count": 203,
   "id": "29a72ab3",
   "metadata": {},
   "outputs": [],
   "source": [
    "#Approximately 44.4% of authors had ORCID identifiers, enabling disambiguation and reliable counting. \n",
    "#The remaining Y% lacked ORCIDs, often leading to ambiguous high-frequency names like “Kim E” being grouped together, \n",
    "#which may overinflate their contribution."
   ]
  },
  {
   "cell_type": "code",
   "execution_count": 204,
   "id": "0621830f",
   "metadata": {},
   "outputs": [
    {
     "name": "stdout",
     "output_type": "stream",
     "text": [
      "Warning: When  cdn_resources is 'local' jupyter notebook has issues displaying graphics on chrome/safari. Use cdn_resources='in_line' or cdn_resources='remote' if you have issues viewing graphics in a notebook.\n",
      "author_collab_network.html\n"
     ]
    },
    {
     "data": {
      "text/html": [
       "\n",
       "        <iframe\n",
       "            width=\"1000px\"\n",
       "            height=\"600px\"\n",
       "            src=\"author_collab_network.html\"\n",
       "            frameborder=\"0\"\n",
       "            allowfullscreen\n",
       "            \n",
       "        ></iframe>\n",
       "        "
      ],
      "text/plain": [
       "<IPython.lib.display.IFrame at 0x1c159237ad0>"
      ]
     },
     "execution_count": 204,
     "metadata": {},
     "output_type": "execute_result"
    }
   ],
   "source": [
    "from pyvis.network import Network\n",
    "import pandas as pd\n",
    "from itertools import combinations\n",
    "import networkx as nx\n",
    "\n",
    "### Build Co-Author Network ###\n",
    "# nodes are authors, edges are co-authorships\n",
    "# node size based on publication count\n",
    "# edge weight based on co-authorship frequency\n",
    "\n",
    "# Step 1: Prepare data\n",
    "authors_filtered = authors[authors[\"author_orcid\"] != \"no_orcid\"].copy()\n",
    "authors_filtered[\"author_id\"] = authors_filtered[\"author_orcid\"]\n",
    "\n",
    "# Step 2: Count publications per author\n",
    "author_counts = authors_filtered[\"author_id\"].value_counts()\n",
    "top_authors = author_counts.head(200).index.tolist()  # Adjust N as needed\n",
    "\n",
    "# Step 3: Build graph\n",
    "G = nx.Graph()\n",
    "grouped = authors_filtered.groupby(\"pmid\")\n",
    "\n",
    "for _, group in grouped:\n",
    "    coauthors = list(set(group[\"author_id\"]))\n",
    "    for a1, a2 in combinations(coauthors, 2):\n",
    "        if G.has_edge(a1, a2):\n",
    "            G[a1][a2][\"weight\"] += 1\n",
    "        else:\n",
    "            G.add_edge(a1, a2, weight=1)\n",
    "\n",
    "# Step 4: Filter subgraph to top authors\n",
    "G_sub = G.subgraph(top_authors).copy()\n",
    "\n",
    "# Optional: enrich with names for display\n",
    "author_id_to_name = dict(zip(authors_filtered[\"author_id\"], authors_filtered[\"author_fullName\"]))\n",
    "\n",
    "# Step 5: Visualize using Pyvis\n",
    "net = Network(height=\"600px\", width=\"1000px\", notebook=True)\n",
    "net.from_nx(G_sub)\n",
    "\n",
    "for node in net.nodes:\n",
    "    author_id = node[\"id\"]\n",
    "    name = author_id_to_name.get(author_id, \"Unknown\")\n",
    "    pub_count = int(author_counts.get(author_id, 0))\n",
    "    node[\"title\"] = f\"{name}<br>ORCID: {author_id}<br>Publications: {pub_count}\"\n",
    "    node[\"label\"] = name\n",
    "    node[\"value\"] = pub_count\n",
    "    node[\"font\"] = {\"size\": 20}\n",
    "\n",
    "net.show(\"author_collab_network.html\")\n",
    "#download html and view in browser"
   ]
  },
  {
   "cell_type": "code",
   "execution_count": 206,
   "id": "ea62ca42",
   "metadata": {},
   "outputs": [
    {
     "name": "stdout",
     "output_type": "stream",
     "text": [
      "       Author1_Name Author2_Name  Publications\n",
      "65798    Supuran CT     Angeli A            36\n",
      "88535        Gao GF         Qi J            33\n",
      "86758        Yang D      Wang MW            32\n",
      "44887       Baker D      Bera AK            32\n",
      "47206    Steyaert J     Pardon E            32\n",
      "85160         Xu HE         He X            31\n",
      "85075       Jiang Y        Xu HE            28\n",
      "73544         Shi K     Aihara H            24\n",
      "52340       Knapp S   Chaikuad A            22\n",
      "85307       Zhang Y        Mao C            22\n",
      "70856     Shihoya W     Nureki O            20\n",
      "85165         Xu HE       Yang D            20\n",
      "113406    Garcia KC      Jude KM            20\n",
      "68212       Carta F     Angeli A            20\n",
      "75482         Zhu X    Wilson IA            20\n"
     ]
    }
   ],
   "source": [
    "# Step 1: Extract edge weights into a DataFrame\n",
    "top_edges = [\n",
    "    (u, v, data[\"weight\"])\n",
    "    for u, v, data in G.edges(data=True)\n",
    "    if \"weight\" in data\n",
    "]\n",
    "\n",
    "collab_df = pd.DataFrame(top_edges, columns=[\"Author1\", \"Author2\", \"Publications\"])\n",
    "\n",
    "# Step 4: Remove rows with missing names\n",
    "collab_df = collab_df.dropna(subset=[\"Author1\", \"Author2\"])\n",
    "\n",
    "\n",
    "# Step 2: Sort by number of shared publications\n",
    "collab_df = collab_df.sort_values(by=\"Publications\", ascending=False)\n",
    "\n",
    "# Step 3: Optional – map ORCID to names if available\n",
    "collab_df[\"Author1_Name\"] = collab_df[\"Author1\"].map(author_id_to_name)\n",
    "collab_df[\"Author2_Name\"] = collab_df[\"Author2\"].map(author_id_to_name)\n",
    "\n",
    "# Step 4: View or save\n",
    "top_n = 15\n",
    "print(collab_df[[\"Author1_Name\", \"Author2_Name\", \"Publications\"]].head(top_n))\n"
   ]
  },
  {
   "cell_type": "code",
   "execution_count": 207,
   "id": "c3940a6d",
   "metadata": {},
   "outputs": [],
   "source": [
    "# calculate number of publications per year\n",
    "articles_per_year = epmc_df.groupby('year').size()\n",
    "\n",
    "# calculate growth rate of publications per year\n",
    "growth_rate = articles_per_year.pct_change().fillna(0) * 100"
   ]
  },
  {
   "cell_type": "code",
   "execution_count": 208,
   "id": "8ffbf056",
   "metadata": {},
   "outputs": [
    {
     "data": {
      "image/png": "[encoded data removed]",
      "text/plain": [
       "<Figure size 1000x600 with 2 Axes>"
      ]
     },
     "metadata": {},
     "output_type": "display_data"
    }
   ],
   "source": [
    "import matplotlib.pyplot as plt\n",
    "\n",
    "# Calculate articles per year\n",
    "articles_per_year = epmc_df.groupby('year').size()\n",
    "growth_rate = articles_per_year.pct_change() * 100  # % growth\n",
    "\n",
    "# Plot\n",
    "fig, ax1 = plt.subplots(figsize=(10, 6))\n",
    "\n",
    "# Primary Y-axis: Number of articles\n",
    "color = 'tab:blue'\n",
    "ax1.set_xlabel('Year')\n",
    "ax1.set_ylabel('Article Count', color=color)\n",
    "ax1.plot(articles_per_year.index, articles_per_year.values, marker='o', color=color, label='Articles')\n",
    "ax1.tick_params(axis='y', labelcolor=color)\n",
    "\n",
    "# Secondary Y-axis: Growth rate\n",
    "ax2 = ax1.twinx()\n",
    "color = 'tab:red'\n",
    "ax2.set_ylabel('% Growth Rate', color=color)\n",
    "ax2.plot(growth_rate.index, growth_rate.values, marker='s', linestyle='--', color=color, label='Growth Rate')\n",
    "ax2.tick_params(axis='y', labelcolor=color)\n",
    "\n",
    "# Title and layout\n",
    "plt.title('PDBe-linked Article Growth Over Time')\n",
    "fig.tight_layout()\n",
    "plt.show()\n"
   ]
  },
  {
   "cell_type": "code",
   "execution_count": 209,
   "id": "36a32fc2",
   "metadata": {},
   "outputs": [
    {
     "data": {
      "text/plain": [
       "45770"
      ]
     },
     "execution_count": 209,
     "metadata": {},
     "output_type": "execute_result"
    }
   ],
   "source": [
    "# Number of Unique Authors with ORCID \n",
    "authors_df['author_orcid'].nunique()"
   ]
  },
  {
   "cell_type": "code",
   "execution_count": 210,
   "id": "0b273bcf",
   "metadata": {},
   "outputs": [
    {
     "data": {
      "text/plain": [
       "affiliation\n",
       "Department of Biochemistry, University of Washington, Seattle, WA, USA.                                        40\n",
       "MRC Laboratory of Molecular Biology, Cambridge, UK.                                                            29\n",
       "Department of Structural Biology, Van Andel Institute, Grand Rapids, MI, USA.                                  20\n",
       "Department of Molecular and Cellular Physiology, Stanford University School of Medicine, Stanford, CA, USA.    20\n",
       "Department of Biochemistry, University of Zurich, Zurich, Switzerland.                                         19\n",
       "                                                                                                               ..\n",
       "Department of Biosciences, Durham University, Stockton Road, Durham DH1 3LE, UK.                                1\n",
       "Lymphocyte Nuclear Biology, NIAMS, NIH, Bethesda, MD, USA. jianliang.xu@nih.gov.                                1\n",
       "Department of Medicine, School of Medicine, University of California, San Diego, La Jolla, CA, USA.             1\n",
       "Department of Chemistry, College of the Holy Cross, 1 College Street, Worcester, MA, USA.                       1\n",
       "European Molecular Laboratory Biology, Grenoble Outstation, France.                                             1\n",
       "Name: count, Length: 15726, dtype: int64"
      ]
     },
     "execution_count": 210,
     "metadata": {},
     "output_type": "execute_result"
    }
   ],
   "source": [
    "metadata['affiliation'].value_counts()"
   ]
  },
  {
   "cell_type": "code",
   "execution_count": 212,
   "id": "6c54e009",
   "metadata": {},
   "outputs": [
    {
     "data": {
      "text/plain": [
       "count    19457.000000\n",
       "mean        24.295729\n",
       "std         52.810080\n",
       "min          2.000000\n",
       "25%          8.000000\n",
       "50%         16.000000\n",
       "75%         24.000000\n",
       "max       3728.000000\n",
       "Name: pdb_ids, dtype: float64"
      ]
     },
     "execution_count": 212,
     "metadata": {},
     "output_type": "execute_result"
    }
   ],
   "source": [
    "metadata_with_pdb['pdb_ids'].apply(len).describe()"
   ]
  },
  {
   "cell_type": "code",
   "execution_count": 213,
   "id": "ce0aacc6",
   "metadata": {},
   "outputs": [
    {
     "data": {
      "text/plain": [
       "journal\n",
       "Nature communications                                                              2440\n",
       "Proceedings of the National Academy of Sciences of the United States of America     897\n",
       "Journal of medicinal chemistry                                                      862\n",
       "The Journal of biological chemistry                                                 749\n",
       "Nature                                                                              623\n",
       "Nucleic acids research                                                              568\n",
       "Science advances                                                                    460\n",
       "Nature structural & molecular biology                                               434\n",
       "Structure (London, England : 1993)                                                  424\n",
       "Science (New York, N.Y.)                                                            371\n",
       "Name: count, dtype: int64"
      ]
     },
     "execution_count": 213,
     "metadata": {},
     "output_type": "execute_result"
    }
   ],
   "source": [
    "metadata['journal'].value_counts().head(10)"
   ]
  },
  {
   "cell_type": "code",
   "execution_count": null,
   "id": "16abacb6",
   "metadata": {},
   "outputs": [],
   "source": []
  }
 ],
 "metadata": {
  "kernelspec": {
   "display_name": "Python 3",
   "language": "python",
   "name": "python3"
  },
  "language_info": {
   "codemirror_mode": {
    "name": "ipython",
    "version": 3
   },
   "file_extension": ".py",
   "mimetype": "text/x-python",
   "name": "python",
   "nbconvert_exporter": "python",
   "pygments_lexer": "ipython3",
   "version": "3.13.5"
  }
 },
 "nbformat": 4,
 "nbformat_minor": 5
}
